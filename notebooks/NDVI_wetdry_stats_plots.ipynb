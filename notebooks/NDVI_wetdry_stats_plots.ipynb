{
 "cells": [
  {
   "cell_type": "markdown",
   "metadata": {},
   "source": [
    "# NDVI_wetdry_stats_plot\n",
    "\n",
    "This code plots up the statistics calculated using the NDVI_mask_rainfall_percentiles code. Site comparison of the difference between known palaeovalleys and their surrounds provides an indicator of the dataset's usefulness in determining the location of palaeovalleys. \n",
    "\n",
    "Written by Claire Krause, December 2016, Datacube v 1.13, Python v3.\n",
    "\n",
    "### Code dependencies\n",
    "- NDVI_wet.csv and NDVI_dry.csv, produced from NDVI_mask_rainfall_percentiles"
   ]
  },
  {
   "cell_type": "code",
   "execution_count": 1,
   "metadata": {
    "collapsed": true
   },
   "outputs": [],
   "source": [
    "%matplotlib inline\n",
    "import pandas\n",
    "import matplotlib.pyplot as plt\n",
    "import plotly.plotly as py\n",
    "import numpy as np\n",
    "import statistics\n",
    "import xarray"
   ]
  },
  {
   "cell_type": "code",
   "execution_count": 2,
   "metadata": {
    "collapsed": false,
    "scrolled": true
   },
   "outputs": [
    {
     "name": "stdout",
     "output_type": "stream",
     "text": [
      "            name  start_date        ttest   KS_test\n",
      "0    Blackwood2A  1988-06-01  -559.893681  0.134386\n",
      "1    Blackwood2A  1991-06-01  -450.398878  0.170897\n",
      "2    Blackwood2A  1992-06-01  -501.285978  0.175443\n",
      "3    Blackwood2A  1996-06-01  -667.626465  0.215480\n",
      "4    Blackwood2A  1998-06-01  -806.703920  0.235543\n",
      "5    Blackwood2A  2005-03-01  -700.493415  0.236278\n",
      "6    Blackwood2B  1988-06-01  -854.332811  0.183167\n",
      "7    Blackwood2B  1991-06-01  -457.657733  0.144034\n",
      "8    Blackwood2B  1992-06-01  -583.927684  0.132481\n",
      "9    Blackwood2B  1996-06-01  -542.853151  0.078995\n",
      "10   Blackwood2B  1998-06-01  -693.892462  0.145862\n",
      "11   Blackwood2B  2005-03-01  -528.746338  0.103998\n",
      "12   Blackwood2C  1988-06-01  -372.570670  0.088399\n",
      "13   Blackwood2C  1991-06-01  -141.857970  0.070329\n",
      "14   Blackwood2C  1992-06-01  -510.623247  0.159687\n",
      "15   Blackwood2C  1996-06-01  -564.240720  0.160768\n",
      "16   Blackwood2C  1998-06-01  -613.689158  0.162869\n",
      "17   Blackwood2C  2005-03-01  -671.392519  0.183822\n",
      "18   Blackwood2D  1988-06-01  -981.262175  0.159985\n",
      "19   Blackwood2D  1991-06-01  -435.630169  0.167244\n",
      "20   Blackwood2D  1992-06-01  -872.116340  0.165325\n",
      "21   Blackwood2D  1996-06-01  -614.560079  0.098327\n",
      "22   Blackwood2D  1998-06-01  -775.434165  0.132527\n",
      "23   Blackwood2D  2005-03-01  -623.633131  0.108184\n",
      "24      GarfordA  1986-12-01          NaN       NaN\n",
      "25      GarfordA  1989-03-01   -14.253748  0.069760\n",
      "26      GarfordA  1992-09-01   151.500495  0.103105\n",
      "27      GarfordA  1996-12-01  -181.035132  0.026431\n",
      "28      GarfordA  2010-09-01    30.945150  0.061790\n",
      "29      GarfordA  2010-12-01    40.823216  0.050936\n",
      "..           ...         ...          ...       ...\n",
      "228   MurchisonK  1992-03-01   990.500079  0.274298\n",
      "229   MurchisonK  1996-06-01   418.939337  0.110650\n",
      "230   MurchisonK  1999-03-01   684.033126  0.166514\n",
      "231   MurchisonK  2000-03-01   601.443911  0.150287\n",
      "232   MurchisonK  2005-12-01   984.713928  0.233642\n",
      "233   MurchisonK  2010-12-01  1171.826139  0.265831\n",
      "234   MurchisonL  1992-03-01   898.089674  0.203086\n",
      "235   MurchisonL  1996-06-01   -53.924632  0.039382\n",
      "236   MurchisonL  1999-03-01   774.446165  0.163812\n",
      "237   MurchisonL  2000-03-01   374.286163  0.073374\n",
      "238   MurchisonL  2005-12-01   774.947795  0.147852\n",
      "239   MurchisonL  2010-12-01   319.554180  0.078384\n",
      "240          Ord  1986-12-01          NaN       NaN\n",
      "241          Ord  1996-12-01   526.097586  0.204056\n",
      "242          Ord  2003-12-01   650.743285  0.228048\n",
      "243          Ord  2007-12-01   670.106265  0.236219\n",
      "244          Ord  2008-12-01   424.335953  0.145911\n",
      "245          Ord  2010-12-01   504.301092  0.181667\n",
      "246      TiTreeA  1990-12-01    52.855357  0.123845\n",
      "247      TiTreeA  1996-12-01  -235.445505  0.090122\n",
      "248      TiTreeA  1999-12-01   388.775080  0.183734\n",
      "249      TiTreeA  2000-12-01  -604.920567  0.171051\n",
      "250      TiTreeA  2009-12-01  -737.721045  0.175967\n",
      "251      TiTreeA  2010-12-01   -56.731914  0.069819\n",
      "252      TiTreeB  1990-12-01   308.355439  0.119872\n",
      "253      TiTreeB  1996-12-01    59.756125  0.050146\n",
      "254      TiTreeB  1999-12-01   580.530696  0.204333\n",
      "255      TiTreeB  2000-12-01  -130.125596  0.061709\n",
      "256      TiTreeB  2009-12-01   -48.323200  0.081422\n",
      "257      TiTreeB  2010-12-01  -191.367083  0.074587\n",
      "\n",
      "[258 rows x 4 columns]\n"
     ]
    }
   ],
   "source": [
    "wet_stats = pandas.read_csv('/g/data/p25/cek156/NDVI/NDVI_wet.csv', delimiter = ',')\n",
    "dry_stats = pandas.read_csv('/g/data/p25/cek156/NDVI/NDVI_dry.csv', delimiter = ',')\n",
    "print(wet_stats)"
   ]
  },
  {
   "cell_type": "code",
   "execution_count": 3,
   "metadata": {
    "collapsed": false
   },
   "outputs": [
    {
     "name": "stdout",
     "output_type": "stream",
     "text": [
      "         Name  minlat  maxlat  minlon  maxlon\n",
      "0  Blackwood2  -34.10  -32.70  116.40  118.40\n",
      "1     Garford  -29.90  -29.23  133.15  134.70\n",
      "2    Mandora1  -21.10  -18.87  120.90  127.00\n",
      "3    Mandora2  -20.03  -18.88  120.90  123.30\n",
      "4   Murchison  -27.95  -25.49  114.75  119.30\n",
      "5         Ord  -15.93  -15.05  128.30  129.29\n",
      "6      TiTree  -23.04  -21.67  133.18  134.24\n",
      "7    Daintree  -16.39  -16.09  145.21  145.42\n",
      "8       Laura  -15.85  -14.43  143.42  144.89\n",
      "9  Blackwood1  -34.40  -33.58  115.00  116.40\n"
     ]
    }
   ],
   "source": [
    "study_sites = pandas.read_csv('/g/data/p25/cek156/case_study_sites.csv')\n",
    "print(study_sites)"
   ]
  },
  {
   "cell_type": "markdown",
   "metadata": {},
   "source": [
    "## Make a grouped bar chart showing the t test statistic for the mean values for each site"
   ]
  },
  {
   "cell_type": "code",
   "execution_count": 4,
   "metadata": {
    "collapsed": false,
    "scrolled": true
   },
   "outputs": [
    {
     "name": "stdout",
     "output_type": "stream",
     "text": [
      "         Site    wet_mean    dry_mean\n",
      "0  Blackwood2 -605.200952 -488.701943\n",
      "1     Garford -234.578226 -137.470436\n",
      "2    Mandora1 -138.562743  -38.029561\n",
      "3    Mandora2    7.960955   65.610779\n",
      "4   Murchison  377.943988  384.179109\n",
      "5         Ord  555.116836  155.306494\n",
      "6      TiTree  -51.196851  230.262440\n"
     ]
    }
   ],
   "source": [
    "mean_values = pandas.DataFrame(columns = ['Site', 'wet_mean', 'dry_mean'])\n",
    "\n",
    "exclude_last_three = study_sites[:-3]\n",
    "for idx, site in enumerate(exclude_last_three.Name):\n",
    "    wet_mean = wet_stats[wet_stats.name.str.contains(site)].ttest.mean()\n",
    "    dry_mean = dry_stats[dry_stats.name.str.contains(site)].ttest.mean()\n",
    "    mean_values.loc[idx] = [site, wet_mean, dry_mean]\n",
    "\n",
    "print(mean_values)"
   ]
  },
  {
   "cell_type": "code",
   "execution_count": 5,
   "metadata": {
    "collapsed": false
   },
   "outputs": [
    {
     "data": {
      "image/png": "[encoded data removed]",
      "text/plain": [
       "<matplotlib.figure.Figure at 0x7f5e645fbbe0>"
      ]
     },
     "metadata": {},
     "output_type": "display_data"
    }
   ],
   "source": [
    "# Setting the positions and width for the bars\n",
    "pos = list(range(len(mean_values.wet_mean)))\n",
    "width = 0.25\n",
    "\n",
    "# Plotting the bars\n",
    "fig, ax = plt.subplots(figsize=(10,5))\n",
    "\n",
    "plt.bar(pos, mean_values['wet_mean'], width, color = 'g')\n",
    "plt.bar([p + width for p in pos], mean_values['dry_mean'], width, color = 'r')\n",
    "\n",
    "# Set the y axis label\n",
    "ax.set_ylabel('t test statistic')\n",
    "\n",
    "# Set the position of the x ticks\n",
    "ax.set_xticks([p + 1.5 * width for p in pos])\n",
    "\n",
    "# Set the labels for the x ticks\n",
    "ax.set_xticklabels(mean_values['Site'])\n",
    "\n",
    "# Setting the x-axis and y-axis limits\n",
    "plt.xlim(min(pos)-width, max(pos)+width*4)\n",
    "plt.ylim([800, -800])\n",
    "\n",
    "# Adding the legend and showing the plot\n",
    "plt.legend(['wet seasons', 'dry seasons'], loc='upper right')\n",
    "\n",
    "#Let's save the plot\n",
    "plt.savefig('NDVI_wet_dry_ttest.jpg', bbox_inches='tight')"
   ]
  },
  {
   "cell_type": "markdown",
   "metadata": {},
   "source": [
    "## Now do the same for the KS statistic"
   ]
  },
  {
   "cell_type": "code",
   "execution_count": 6,
   "metadata": {
    "collapsed": false
   },
   "outputs": [
    {
     "data": {
      "image/png": "[encoded data removed]",
      "text/plain": [
       "<matplotlib.figure.Figure at 0x7f5e9c97be10>"
      ]
     },
     "metadata": {},
     "output_type": "display_data"
    }
   ],
   "source": [
    "mean_values = pandas.DataFrame(columns = ['Site', 'wet_mean', 'dry_mean'])\n",
    "\n",
    "exclude_last_three = study_sites[:-3]\n",
    "for idx, site in enumerate(exclude_last_three.Name):\n",
    "    wet_mean = wet_stats[wet_stats.name.str.contains(site)].KS_test.mean()\n",
    "    dry_mean = dry_stats[dry_stats.name.str.contains(site)].KS_test.mean()\n",
    "    mean_values.loc[idx] = [site, wet_mean, dry_mean]\n",
    "\n",
    "# Setting the positions and width for the bars\n",
    "pos = list(range(len(mean_values.wet_mean)))\n",
    "width = 0.25\n",
    "\n",
    "# Plotting the bars\n",
    "fig, ax = plt.subplots(figsize=(10,5))\n",
    "\n",
    "plt.bar(pos, mean_values['wet_mean'], width, color = 'g')\n",
    "plt.bar([p + width for p in pos], mean_values['dry_mean'], width, color = 'r')\n",
    "\n",
    "# Set the y axis label\n",
    "ax.set_ylabel('KS test statistic')\n",
    "\n",
    "# Set the position of the x ticks\n",
    "ax.set_xticks([p + 1.5 * width for p in pos])\n",
    "\n",
    "# Set the labels for the x ticks\n",
    "ax.set_xticklabels(mean_values['Site'])\n",
    "\n",
    "# Setting the x-axis and y-axis limits\n",
    "plt.xlim(min(pos)-width, max(pos)+width*4)\n",
    "plt.ylim([0, 1])\n",
    "\n",
    "# Adding the legend and showing the plot\n",
    "plt.legend(['wet seasons', 'dry seasons'], loc='upper right')\n",
    "\n",
    "#Let's save the plot\n",
    "plt.savefig('NDVI_wet_dry_KS.jpg', bbox_inches='tight')"
   ]
  },
  {
   "cell_type": "code",
   "execution_count": null,
   "metadata": {
    "collapsed": true
   },
   "outputs": [],
   "source": []
  }
 ],
 "metadata": {
  "anaconda-cloud": {},
  "kernelspec": {
   "display_name": "Python [default]",
   "language": "python",
   "name": "python3"
  },
  "language_info": {
   "codemirror_mode": {
    "name": "ipython",
    "version": 3
   },
   "file_extension": ".py",
   "mimetype": "text/x-python",
   "name": "python",
   "nbconvert_exporter": "python",
   "pygments_lexer": "ipython3",
   "version": "3.5.2"
  }
 },
 "nbformat": 4,
 "nbformat_minor": 1
}
